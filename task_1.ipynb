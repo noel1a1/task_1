{
  "metadata": {
    "kernelspec": {
      "name": "python",
      "display_name": "Python (Pyodide)",
      "language": "python"
    },
    "language_info": {
      "codemirror_mode": {
        "name": "python",
        "version": 3
      },
      "file_extension": ".py",
      "mimetype": "text/x-python",
      "name": "python",
      "nbconvert_exporter": "python",
      "pygments_lexer": "ipython3",
      "version": "3.8"
    }
  },
  "nbformat_minor": 5,
  "nbformat": 4,
  "cells": [
    {
      "id": "3766383f-6037-4b32-87c7-95da4bc32983",
      "cell_type": "code",
      "source": "#creating my list\nmy_list = [1,3,4,6,8]\n\n#adding an element into the list\nmy_list.append(10)\n\n#removing an element from the list\nmy_list.remove(3)\n\n#modifying an element in the list\nmy_list[0] = 2\n\nprint(\"updated list\",my_list)",
      "metadata": {
        "trusted": true,
        "collapsed": true,
        "jupyter": {
          "outputs_hidden": true
        }
      },
      "outputs": [
        {
          "name": "stdout",
          "text": "updated list [2, 4, 6, 8, 10]\n",
          "output_type": "stream"
        }
      ],
      "execution_count": 3
    },
    {
      "id": "6aa56f55-ab3f-48fb-9c4d-a4c014423fba",
      "cell_type": "code",
      "source": "#creating a dictionary\nmy_dict = {'name':'john','age':28,'city':'rome'}\n\n#adding\nmy_dict['gender'] = 'male'\n\n#removing\ndel my_dict['age']\n\n#modify\nmy_dict['city'] = 'florence'\n\nprint(\"updated dictionary:\",my_dict)\n",
      "metadata": {
        "trusted": true
      },
      "outputs": [
        {
          "name": "stdout",
          "text": "updated dictionary: {'name': 'john', 'city': 'florence', 'gender': 'male'}\n",
          "output_type": "stream"
        }
      ],
      "execution_count": 2
    },
    {
      "id": "d9811903-c728-4e28-857d-0d85baa8a2d4",
      "cell_type": "code",
      "source": "#creating a set\nmy_set = {1,2,3,5,6,7}\n\n#adding\nmy_set.add(9)\n\n#removing\nmy_set.remove(6)\n\n#modify\nmy_set.discard(2)\nmy_set.add(9)\n\nprint(\"updated set:\",my_set)",
      "metadata": {
        "trusted": true
      },
      "outputs": [
        {
          "name": "stdout",
          "text": "updated set: {1, 3, 5, 7, 9}\n",
          "output_type": "stream"
        }
      ],
      "execution_count": 4
    },
    {
      "id": "358ee449-67a4-4e15-905f-fbf9e63a83e3",
      "cell_type": "code",
      "source": "",
      "metadata": {
        "trusted": true
      },
      "outputs": [],
      "execution_count": null
    }
  ]
}